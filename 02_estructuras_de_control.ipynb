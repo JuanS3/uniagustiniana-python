{
 "cells": [
  {
   "cell_type": "markdown",
   "metadata": {},
   "source": [
    "# Estructuras de control"
   ]
  },
  {
   "cell_type": "markdown",
   "metadata": {},
   "source": [
    "## Estructura de control if\n",
    "\n",
    "La estructura de control if permite ejecutar un bloque de código si se cumple una condición."
   ]
  },
  {
   "cell_type": "markdown",
   "metadata": {},
   "source": [
    "### if - else\n",
    "\n",
    "La estructura de control ***if - else*** permite ejecutar un bloque de código si se cumple una condición y otro bloque de código si no se cumple la condición."
   ]
  },
  {
   "cell_type": "code",
   "execution_count": 1,
   "metadata": {},
   "outputs": [
    {
     "name": "stdout",
     "output_type": "stream",
     "text": [
      "El número es par\n"
     ]
    }
   ],
   "source": [
    "# Ejemplo\n",
    "# Verificar si un número es par o impar\n",
    "\n",
    "# Ingreso de datos\n",
    "numero = int(input('Ingrese un número: '))\n",
    "\n",
    "# Proceso\n",
    "if numero % 2 == 0:\n",
    "    print('El número es par')\n",
    "else:\n",
    "    print('El número es impar')"
   ]
  },
  {
   "cell_type": "markdown",
   "metadata": {},
   "source": [
    "### if - elif - else\n",
    "\n",
    "La estructura de control ***if - elif - else*** permite ejecutar un bloque de código si se cumple una condición, otro bloque de código si se cumple otra condición y otro bloque de código si no se cumple ninguna de las condiciones anteriores."
   ]
  },
  {
   "cell_type": "code",
   "execution_count": 2,
   "metadata": {},
   "outputs": [
    {
     "name": "stdout",
     "output_type": "stream",
     "text": [
      "El número es positivo\n"
     ]
    }
   ],
   "source": [
    "# Ejemplo\n",
    "# Verificar si un número es positivo, negativo o cero\n",
    "\n",
    "# Ingreso de datos\n",
    "numero = int(input('Ingrese un número: '))\n",
    "\n",
    "# Proceso\n",
    "if numero > 0:\n",
    "    print('El número es positivo')\n",
    "elif numero < 0:\n",
    "    print('El número es negativo')\n",
    "else:\n",
    "    print('El número es cero')"
   ]
  },
  {
   "cell_type": "code",
   "execution_count": null,
   "metadata": {},
   "outputs": [],
   "source": [
    "# Ejemplo\n",
    "# Verificar si un número es positivo, negativo o cero y en caso de ser positivo, si es par o impar\n",
    "\n",
    "# Ingreso de datos\n",
    "numero = int(input('Ingrese un número: '))\n",
    "\n",
    "# Proceso\n",
    "if numero > 0:\n",
    "    print('El número es positivo')\n",
    "    if numero % 2 == 0:\n",
    "        print('El número es par')\n",
    "    else:\n",
    "        print('El número es impar')\n",
    "elif numero < 0:\n",
    "    print('El número es negativo')\n",
    "else:\n",
    "    print('El número es cero')"
   ]
  },
  {
   "cell_type": "code",
   "execution_count": 3,
   "metadata": {},
   "outputs": [
    {
     "name": "stdout",
     "output_type": "stream",
     "text": [
      "El número no es divisible entre 2, 3, 5 o 7\n"
     ]
    }
   ],
   "source": [
    "# Ejemplo\n",
    "# Verificar si un número es divisible entre 2, 3, 5 o 7\n",
    "\n",
    "# Ingreso de datos\n",
    "numero = int(input('Ingrese un número: '))\n",
    "\n",
    "# Proceso\n",
    "if numero % 2 == 0:\n",
    "    print('El número es divisible entre 2')\n",
    "elif numero % 3 == 0:\n",
    "    print('El número es divisible entre 3')\n",
    "elif numero % 5 == 0:\n",
    "    print('El número es divisible entre 5')\n",
    "elif numero % 7 == 0:\n",
    "    print('El número es divisible entre 7')\n",
    "else:\n",
    "    print('El número no es divisible entre 2, 3, 5 o 7')\n",
    "    "
   ]
  },
  {
   "cell_type": "markdown",
   "metadata": {},
   "source": [
    "### Ejercicios"
   ]
  },
  {
   "cell_type": "markdown",
   "metadata": {},
   "source": [
    "1. Escribir un programa que pregunte al usuario su edad y muestre por pantalla si es mayor de edad o no.\n",
    "\n",
    "Ejemplo:\n",
    "\n",
    "- Entrada: 20\n",
    "- Salida: Eres mayor de edad"
   ]
  },
  {
   "cell_type": "code",
   "execution_count": null,
   "metadata": {},
   "outputs": [],
   "source": [
    "# codigo aqui"
   ]
  },
  {
   "cell_type": "markdown",
   "metadata": {},
   "source": [
    "2. Escribir un programa que almacene la cadena de caracteres contraseña en una variable, pregunte al usuario por la contraseña e imprima por pantalla si la contraseña introducida por el usuario coincide con la guardada en la variable.\n",
    "\n",
    "Ejemplo:\n",
    "\n",
    "- Entrada: Contraseña\n",
    "- Salida: La contraseña es correcta"
   ]
  },
  {
   "cell_type": "code",
   "execution_count": 4,
   "metadata": {},
   "outputs": [],
   "source": [
    "# Codigo aqui"
   ]
  },
  {
   "cell_type": "markdown",
   "metadata": {},
   "source": [
    "## Estructura de control for\n",
    "\n",
    "La estructura de control ***for*** permite ejecutar un bloque de código un número determinado de veces.\n",
    "\n",
    "El número de veces que se ejecuta el bloque de código viene determinado por los elementos de una lista, tupla o cadena de caracteres.\n",
    "\n",
    "Para el caso de una lista o tupla, el bloque de código se ejecuta tantas veces como elementos tenga la lista o tupla y en cada iteración del bucle el elemento de la lista o tupla se almacena en una variable. Para el caso de una cadena de caracteres, el bloque de código se ejecuta tantas veces como caracteres tenga la cadena y en cada iteración del bucle el carácter se almacena en una variable."
   ]
  },
  {
   "cell_type": "code",
   "execution_count": 6,
   "metadata": {},
   "outputs": [
    {
     "name": "stdout",
     "output_type": "stream",
     "text": [
      "1\n",
      "2\n",
      "3\n",
      "4\n",
      "5\n",
      "6\n",
      "7\n",
      "8\n",
      "9\n",
      "10\n"
     ]
    }
   ],
   "source": [
    "# Ejemplo\n",
    "# Imprimir en pantalla los números del 1 al 10\n",
    "\n",
    "# Proceso\n",
    "# range(1, 11) -> (1, 2, 3, 4, 5, 6, 7, 8, 9, 10)\n",
    "for i in range(1, 11):\n",
    "    print(i)"
   ]
  },
  {
   "cell_type": "code",
   "execution_count": 7,
   "metadata": {},
   "outputs": [
    {
     "name": "stdout",
     "output_type": "stream",
     "text": [
      "H\n",
      "o\n",
      "l\n",
      "a\n",
      " \n",
      "m\n",
      "u\n",
      "n\n",
      "d\n",
      "o\n"
     ]
    }
   ],
   "source": [
    "# Ejemplo\n",
    "# Imprimir en pantalla los caracteres de una cadena de texto\n",
    "\n",
    "# Ingreso de datos\n",
    "cadena = 'Hola mundo'\n",
    "\n",
    "# Proceso\n",
    "for caracter in cadena:\n",
    "    print(caracter)"
   ]
  },
  {
   "cell_type": "code",
   "execution_count": 12,
   "metadata": {},
   "outputs": [
    {
     "name": "stdout",
     "output_type": "stream",
     "text": [
      "Lunes\n",
      "Martes\n",
      "Miercoles\n",
      "Jueves\n",
      "Viernes\n",
      "Sabado\n",
      "Domingo\n"
     ]
    }
   ],
   "source": [
    "# Ejemplo\n",
    "# Imprimir en pantalla los valores de un arreglo\n",
    "\n",
    "# Ingreso de datos\n",
    "dias_semana = ('Lunes', 'Martes', 'Miercoles', 'Jueves', 'Viernes', 'Sabado', 'Domingo')\n",
    "\n",
    "# Proceso\n",
    "for dia in dias_semana:\n",
    "    print(dia)"
   ]
  },
  {
   "cell_type": "markdown",
   "metadata": {},
   "source": [
    "### Ejercicios"
   ]
  },
  {
   "cell_type": "markdown",
   "metadata": {},
   "source": [
    "1. Escribir un programa que pregunte al usuario su edad y muestre por pantalla todos los años que ha cumplido (desde 1 hasta su edad).\n",
    "\n",
    "Ejemplo:\n",
    "\n",
    "- Entrada: 5\n",
    "- Salida: 1\n",
    "- Salida: 2\n",
    "- Salida: 3\n",
    "- Salida: 4\n",
    "- Salida: 5"
   ]
  },
  {
   "cell_type": "code",
   "execution_count": null,
   "metadata": {},
   "outputs": [],
   "source": [
    "# codigo aqui"
   ]
  },
  {
   "cell_type": "markdown",
   "metadata": {},
   "source": [
    "2. Escribir un programa que almacene la cadena de caracteres contraseña en una variable, pregunte al usuario por la contraseña hasta que introduzca la contraseña correcta.\n",
    "\n",
    "Ejemplo:\n",
    "\n",
    "- Entrada: Contraseña\n",
    "- Entrada: Contraseña\n",
    "- Entrada: Contraseña\n",
    "- Salida: La contraseña es correcta"
   ]
  },
  {
   "cell_type": "code",
   "execution_count": null,
   "metadata": {},
   "outputs": [],
   "source": [
    "# Codigo aqui"
   ]
  },
  {
   "cell_type": "markdown",
   "metadata": {},
   "source": [
    "## Estructura de control while\n",
    "\n",
    "La estructura de control ***while*** permite ejecutar un bloque de código mientras se cumpla una condición."
   ]
  },
  {
   "cell_type": "code",
   "execution_count": 15,
   "metadata": {},
   "outputs": [
    {
     "name": "stdout",
     "output_type": "stream",
     "text": [
      "1\n",
      "2\n",
      "3\n",
      "4\n",
      "5\n",
      "6\n",
      "7\n",
      "8\n",
      "9\n",
      "10\n"
     ]
    }
   ],
   "source": [
    "# Ejemplo\n",
    "# Imprimir en pantalla los números del 1 al 10\n",
    "\n",
    "# Proceso\n",
    "i = 1\n",
    "while i <= 10:\n",
    "    print(i)\n",
    "    i += 1\n"
   ]
  },
  {
   "cell_type": "code",
   "execution_count": 14,
   "metadata": {},
   "outputs": [
    {
     "name": "stdout",
     "output_type": "stream",
     "text": [
      "Bienvenido\n",
      "Fin del programa\n"
     ]
    }
   ],
   "source": [
    "# Ejemplo while - else\n",
    "# Imprimir en pantalla la cantidad de intentos de un usuario para ingresar a un sistema\n",
    "\n",
    "# Ingreso de datos\n",
    "password = '123456'\n",
    "intentos = 3\n",
    "contador = 0\n",
    "\n",
    "# Proceso\n",
    "while contador < intentos:\n",
    "    clave = input('Ingrese su clave: ')\n",
    "    if clave == password:\n",
    "        print('Bienvenido')\n",
    "        break\n",
    "    else:\n",
    "        print('Clave incorrecta')\n",
    "    contador += 1\n",
    "else:\n",
    "    print('Ha superado el número de intentos')\n",
    "\n",
    "print('Fin del programa')\n"
   ]
  },
  {
   "cell_type": "markdown",
   "metadata": {},
   "source": [
    "### Ejercicios"
   ]
  },
  {
   "cell_type": "markdown",
   "metadata": {},
   "source": [
    "1. Un menu de opciones que permita al usuario realizar las siguientes operaciones:\n",
    "\n",
    "- Sumar dos números\n",
    "- Restar dos números\n",
    "- Multiplicar dos números\n",
    "- Dividir dos números\n",
    "- Salir"
   ]
  },
  {
   "cell_type": "code",
   "execution_count": null,
   "metadata": {},
   "outputs": [],
   "source": [
    "# codigo aqui"
   ]
  },
  {
   "cell_type": "markdown",
   "metadata": {},
   "source": [
    "## Estructura de control match\n",
    "\n",
    "La estructura de control ***match*** permite ejecutar un bloque de código en función del valor de una variable.\n",
    "\n",
    "Para más información sobre la estructura de control ***match***, consultar la documentación oficial de Python: [https://peps.python.org/pep-0636/](https://peps.python.org/pep-0636/)"
   ]
  },
  {
   "cell_type": "code",
   "execution_count": 18,
   "metadata": {},
   "outputs": [
    {
     "name": "stdout",
     "output_type": "stream",
     "text": [
      "Lunes\n"
     ]
    }
   ],
   "source": [
    "# Ejemplo match\n",
    "\n",
    "# Ingreso de datos\n",
    "dia = int(input('Ingrese un número del 1 al 7: '))\n",
    "dia_semana = ''\n",
    "\n",
    "# Proceso\n",
    "match dia:\n",
    "    case 1:\n",
    "        dia_semana = 'Lunes'\n",
    "    case 2:\n",
    "        dia_semana = 'Martes'\n",
    "    case 3:\n",
    "        dia_semana = 'Miercoles'\n",
    "    case 4:\n",
    "        dia_semana = 'Jueves'\n",
    "    case 5:\n",
    "        dia_semana = 'Viernes'\n",
    "    case 6:\n",
    "        dia_semana = 'Sabado'\n",
    "    case 7:\n",
    "        dia_semana = 'Domingo'\n",
    "    case _:\n",
    "        dia_semana = 'Número incorrecto'\n",
    "\n",
    "print(dia_semana)"
   ]
  },
  {
   "cell_type": "code",
   "execution_count": 19,
   "metadata": {},
   "outputs": [
    {
     "name": "stdout",
     "output_type": "stream",
     "text": [
      "Día laboral\n"
     ]
    }
   ],
   "source": [
    "# Ejemplo match\n",
    "\n",
    "# Ingreso de datos\n",
    "dia = int(input('Ingrese un número del 1 al 7: '))\n",
    "\n",
    "# Proceso\n",
    "match dia:\n",
    "    case 1 | 2 | 3 | 4 | 5:\n",
    "        print('Día laboral')\n",
    "    case 6 | 7:\n",
    "        print('Día no laboral')\n",
    "    case _:\n",
    "        print('Número incorrecto')"
   ]
  },
  {
   "cell_type": "code",
   "execution_count": 20,
   "metadata": {},
   "outputs": [
    {
     "name": "stdout",
     "output_type": "stream",
     "text": [
      "El número es positivo\n"
     ]
    }
   ],
   "source": [
    "# Ejemplo match\n",
    "\n",
    "# Ingreso de datos\n",
    "numero = int(input('Ingrese un número: '))\n",
    "\n",
    "# Proceso\n",
    "match numero:\n",
    "    case int if numero > 0:\n",
    "        print('El número es positivo')\n",
    "    case int if numero < 0:\n",
    "        print('El número es negativo')\n",
    "    case 0:\n",
    "        print('El número es cero')\n",
    "    case _:\n",
    "        print('El dato ingresado no es un número')"
   ]
  },
  {
   "cell_type": "markdown",
   "metadata": {},
   "source": [
    "### Ejercicios"
   ]
  },
  {
   "cell_type": "markdown",
   "metadata": {},
   "source": [
    "1. Verificar si un número es divisible entre 2, 3, 5 o 7"
   ]
  }
 ],
 "metadata": {
  "kernelspec": {
   "display_name": "Python 3",
   "language": "python",
   "name": "python3"
  },
  "language_info": {
   "codemirror_mode": {
    "name": "ipython",
    "version": 3
   },
   "file_extension": ".py",
   "mimetype": "text/x-python",
   "name": "python",
   "nbconvert_exporter": "python",
   "pygments_lexer": "ipython3",
   "version": "3.11.5"
  },
  "orig_nbformat": 4
 },
 "nbformat": 4,
 "nbformat_minor": 2
}
