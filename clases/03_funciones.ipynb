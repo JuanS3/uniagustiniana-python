{
 "cells": [
  {
   "cell_type": "markdown",
   "metadata": {},
   "source": [
    "# Funciones en Python"
   ]
  },
  {
   "cell_type": "markdown",
   "metadata": {},
   "source": [
    "Las funciones son bloques de código que se pueden ejecutar varias veces, permitiendo así reutilizar código. Las funciones se definen con la palabra clave `def` seguida del nombre de la función y paréntesis. Dentro de los paréntesis se pueden definir los parámetros de la función. La función termina con dos puntos `:` y el código de la función se escribe indentado.\n",
    "\n",
    "```python\n",
    "def nombre_funcion(parametro1, parametro2):\n",
    "    # Código de la función\n",
    "    return resultado\n",
    "```\n",
    "\n",
    "Para ejecutar la función se escribe el nombre de la función seguido de paréntesis y los argumentos de la función.\n",
    "\n",
    "```python\n",
    "nombre_funcion(argumento1, argumento2)\n",
    "```"
   ]
  },
  {
   "cell_type": "markdown",
   "metadata": {},
   "source": [
    "\n",
    "## Funciones sin parámetros\n",
    "\n",
    "Las funciones pueden no tener parámetros. En este caso, los paréntesis se dejan vacíos.\n",
    "\n",
    "```python\n",
    "def saludar():\n",
    "    print(\"Hola\")\n",
    "```"
   ]
  },
  {
   "cell_type": "code",
   "execution_count": null,
   "metadata": {},
   "outputs": [],
   "source": []
  },
  {
   "cell_type": "markdown",
   "metadata": {},
   "source": [
    "## Funciones con parámetros\n",
    "\n",
    "Las funciones pueden tener uno o más parámetros. Los parámetros se escriben separados por comas dentro de los paréntesis.\n",
    "\n",
    "```python\n",
    "def saludar(nombre):\n",
    "    print(\"Hola\", nombre)\n",
    "```"
   ]
  },
  {
   "cell_type": "code",
   "execution_count": null,
   "metadata": {},
   "outputs": [],
   "source": []
  },
  {
   "cell_type": "markdown",
   "metadata": {},
   "source": [
    "## Funciones con retorno\n",
    "\n",
    "Las funciones pueden retornar un valor. Para ello se utiliza la palabra clave `return` seguida del valor a retornar.\n",
    "\n",
    "```python\n",
    "def sumar(a, b):\n",
    "    return a + b\n",
    "```"
   ]
  },
  {
   "cell_type": "code",
   "execution_count": null,
   "metadata": {},
   "outputs": [],
   "source": []
  }
 ],
 "metadata": {
  "language_info": {
   "name": "python"
  },
  "orig_nbformat": 4
 },
 "nbformat": 4,
 "nbformat_minor": 2
}
