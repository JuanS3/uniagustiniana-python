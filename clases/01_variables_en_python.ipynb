{
 "cells": [
  {
   "cell_type": "markdown",
   "metadata": {},
   "source": [
    "Autor: [Sebastián Martínez](https://JuanS3.github.io/)\n",
    "\n",
    "Fecha: 13 - septiembre - 2023"
   ]
  },
  {
   "cell_type": "markdown",
   "metadata": {},
   "source": [
    "# Variables en Python"
   ]
  },
  {
   "cell_type": "markdown",
   "metadata": {},
   "source": [
    "## Variables Numéricas\n",
    "\n",
    "Las variables numéricas son aquellas que contienen valores numéricos. Estas pueden ser de tipo entero (int) o de tipo flotante (float)."
   ]
  },
  {
   "cell_type": "markdown",
   "metadata": {},
   "source": [
    "### Enteros\n",
    "\n",
    "Los números enteros son aquellos que no tienen parte decimal. Por ejemplo, 1, 2, 3, 4, 5, etc. En Python, los números enteros se definen sin punto decimal."
   ]
  },
  {
   "cell_type": "code",
   "execution_count": 1,
   "metadata": {},
   "outputs": [
    {
     "name": "stdout",
     "output_type": "stream",
     "text": [
      "5\n",
      "<class 'int'>\n"
     ]
    }
   ],
   "source": [
    "# Ejemplo\n",
    "# Crear una variable de tipo entero\n",
    "x = 5\n",
    "\n",
    "# Imprimir el valor de la variable\n",
    "print(x)\n",
    "\n",
    "# Imprimir el tipo de la variable\n",
    "print(type(x))"
   ]
  },
  {
   "cell_type": "code",
   "execution_count": 3,
   "metadata": {},
   "outputs": [
    {
     "name": "stdout",
     "output_type": "stream",
     "text": [
      "El valor de la variable `x` es: 5 y su tipo es: <class 'int'>\n"
     ]
    }
   ],
   "source": [
    "# Resumiendolo en un print\n",
    "print('El valor de la variable `x` es:', x, 'y su tipo es:', type(x))"
   ]
  },
  {
   "cell_type": "code",
   "execution_count": 4,
   "metadata": {},
   "outputs": [
    {
     "name": "stdout",
     "output_type": "stream",
     "text": [
      "Los numeros son: 5 y 3\n",
      "Suma: 5 + 3 = 8\n",
      "Resta: 5 - 3 = 2\n",
      "Multiplicación: 5 * 3 = 15\n",
      "Potencia: 5 ** 3 = 125\n",
      "División: 5 / 3 = 1.6666666666666667\n",
      "División entera: 5 // 3 = 1\n",
      "Residuo (módulo): 5 % 3 = 2\n"
     ]
    }
   ],
   "source": [
    "# Operaciones aritmeticas en los numeros enteros\n",
    "x = 5\n",
    "y = 3\n",
    "\n",
    "print(f'Los numeros son: {x} y {y}')\n",
    "print(f'Suma: {x} + {y} = {x + y}')\n",
    "print(f'Resta: {x} - {y} = {x - y}')\n",
    "print(f'Multiplicación: {x} * {y} = {x * y}')\n",
    "print(f'Potencia: {x} ** {y} = {x ** y}')\n",
    "print(f'División: {x} / {y} = {x / y}')\n",
    "print(f'División entera: {x} // {y} = {x // y}')\n",
    "print(f'Residuo (módulo): {x} % {y} = {x % y}')"
   ]
  },
  {
   "cell_type": "markdown",
   "metadata": {},
   "source": [
    "### Flotantes\n",
    "\n",
    "Los números flotantes son aquellos que tienen parte decimal. Por ejemplo, 1.0, 2.0, 3.0, 4.0, 5.0, etc. En Python, los números flotantes se definen con punto decimal."
   ]
  },
  {
   "cell_type": "code",
   "execution_count": 5,
   "metadata": {},
   "outputs": [
    {
     "name": "stdout",
     "output_type": "stream",
     "text": [
      "5.0\n",
      "<class 'float'>\n"
     ]
    }
   ],
   "source": [
    "# Ejemplo\n",
    "# Crear una variable de tipo flotante\n",
    "x = 5.0\n",
    "\n",
    "# Imprimir el valor de la variable\n",
    "print(x)\n",
    "\n",
    "# Imprimir el tipo de la variable\n",
    "print(type(x))"
   ]
  },
  {
   "cell_type": "code",
   "execution_count": 6,
   "metadata": {},
   "outputs": [
    {
     "name": "stdout",
     "output_type": "stream",
     "text": [
      "El valor de la variable `x` es: 5.0 y su tipo es: <class 'float'>\n"
     ]
    }
   ],
   "source": [
    "# Resumiendolo en un print\n",
    "print('El valor de la variable `x` es:', x, 'y su tipo es:', type(x))"
   ]
  },
  {
   "cell_type": "code",
   "execution_count": 7,
   "metadata": {},
   "outputs": [
    {
     "name": "stdout",
     "output_type": "stream",
     "text": [
      "Los numeros son: 5.0 y 3.0\n",
      "Suma: 5.0 + 3.0 = 8.0\n",
      "Resta: 5.0 - 3.0 = 2.0\n",
      "Multiplicación: 5.0 * 3.0 = 15.0\n",
      "Potencia: 5.0 ** 3.0 = 125.0\n",
      "División: 5.0 / 3.0 = 1.6666666666666667\n",
      "División entera: 5.0 // 3.0 = 1.0\n",
      "Residuo (módulo): 5.0 % 3.0 = 2.0\n"
     ]
    }
   ],
   "source": [
    "# Operaciones aritmeticas en los numeros flotantes\n",
    "x = 5.0\n",
    "y = 3.0\n",
    "\n",
    "print(f'Los numeros son: {x} y {y}')\n",
    "print(f'Suma: {x} + {y} = {x + y}')\n",
    "print(f'Resta: {x} - {y} = {x - y}')\n",
    "print(f'Multiplicación: {x} * {y} = {x * y}')\n",
    "print(f'Potencia: {x} ** {y} = {x ** y}')\n",
    "print(f'División: {x} / {y} = {x / y}')\n",
    "print(f'División entera: {x} // {y} = {x // y}')\n",
    "print(f'Residuo (módulo): {x} % {y} = {x % y}')"
   ]
  },
  {
   "cell_type": "code",
   "execution_count": 15,
   "metadata": {},
   "outputs": [
    {
     "name": "stdout",
     "output_type": "stream",
     "text": [
      "Los numeros son: 5.0 y 3\n",
      "Suma: 5.0 + 3 = 8.0\n",
      "Resta: 5.0 - 3 = 2.0\n",
      "Multiplicación: 5.0 * 3 = 15.0\n",
      "Potencia: 5.0 ** 3 = 125.0\n",
      "División: 5.0 / 3 = 1.6666666666666667\n",
      "División entera: 5.0 // 3 = 1.0\n",
      "Residuo (módulo): 5.0 % 3 = 2.0\n"
     ]
    }
   ],
   "source": [
    "# Operaciones aritmeticas en los numeros flotantes y enteros\n",
    "x = 5.0\n",
    "y = 3\n",
    "\n",
    "print(f'Los numeros son: {x} y {y}')\n",
    "print(f'Suma: {x} + {y} = {x + y}')\n",
    "print(f'Resta: {x} - {y} = {x - y}')\n",
    "print(f'Multiplicación: {x} * {y} = {x * y}')\n",
    "print(f'Potencia: {x} ** {y} = {x ** y}')\n",
    "print(f'División: {x} / {y} = {x / y}')\n",
    "print(f'División entera: {x} // {y} = {x // y}')\n",
    "print(f'Residuo (módulo): {x} % {y} = {x % y}')"
   ]
  },
  {
   "cell_type": "markdown",
   "metadata": {},
   "source": [
    "### Complejos\n",
    "\n",
    "Los números complejos son aquellos que tienen una parte real y una parte imaginaria. Por ejemplo, 1 + 2j, 2 + 3j, 3 + 4j, 4 + 5j, 5 + 6j, etc. En Python, los números complejos se definen con la parte imaginaria en minúscula."
   ]
  },
  {
   "cell_type": "code",
   "execution_count": 11,
   "metadata": {},
   "outputs": [
    {
     "name": "stdout",
     "output_type": "stream",
     "text": [
      "(5+3j)\n",
      "<class 'complex'>\n"
     ]
    }
   ],
   "source": [
    "# Ejemplo\n",
    "# Crear una variable de tipo numero complejo\n",
    "x = 5 + 3j\n",
    "\n",
    "# Imprimir el valor de la variable\n",
    "print(x)\n",
    "\n",
    "# Imprimir el tipo de la variable\n",
    "print(type(x))"
   ]
  },
  {
   "cell_type": "code",
   "execution_count": 12,
   "metadata": {},
   "outputs": [
    {
     "name": "stdout",
     "output_type": "stream",
     "text": [
      "El valor de la variable `x` es: (5+3j) y su tipo es: <class 'complex'>\n"
     ]
    }
   ],
   "source": [
    "# Resumiendolo en un print\n",
    "print('El valor de la variable `x` es:', x, 'y su tipo es:', type(x))"
   ]
  },
  {
   "cell_type": "code",
   "execution_count": 19,
   "metadata": {},
   "outputs": [
    {
     "name": "stdout",
     "output_type": "stream",
     "text": [
      "Los numeros son: (5+3j) y (3+5j)\n",
      "Suma: (5+3j) + (3+5j) = (8+8j)\n",
      "Resta: (5+3j) - (3+5j) = (2-2j)\n",
      "Multiplicación: (5+3j) * (3+5j) = 34j\n",
      "Potencia: (5+3j) ** (3+5j) = (-7.04464115622119-11.276062812695923j)\n",
      "División: (5+3j) / (3+5j) = (0.8823529411764706-0.4705882352941177j)\n"
     ]
    }
   ],
   "source": [
    "# Operaciones aritmeticas en los numeros complejos\n",
    "x = 5 + 3j\n",
    "y = 3 + 5j\n",
    "\n",
    "print(f'Los numeros son: {x} y {y}')\n",
    "print(f'Suma: {x} + {y} = {x + y}')\n",
    "print(f'Resta: {x} - {y} = {x - y}')\n",
    "print(f'Multiplicación: {x} * {y} = {x * y}')\n",
    "print(f'Potencia: {x} ** {y} = {x ** y}')\n",
    "print(f'División: {x} / {y} = {x / y}')\n",
    "\n",
    "# Las operaciones de división entera y residuo no se pueden realizar con numeros complejos"
   ]
  },
  {
   "cell_type": "markdown",
   "metadata": {},
   "source": [
    "## Variables de Texto\n",
    "\n",
    "Las variables de texto son aquellas que contienen valores de texto. Estas pueden ser de tipo cadena (str) o de tipo caracter (char)."
   ]
  },
  {
   "cell_type": "markdown",
   "metadata": {},
   "source": [
    "### Cadenas de Texto (str)\n",
    "\n",
    "Las cadenas de texto son aquellas que contienen una o más letras. Por ejemplo, \"Hola\", \"Mundo\", \"Hola Mundo\", etc. En Python, las cadenas de texto se definen entre comillas dobles o simples."
   ]
  },
  {
   "cell_type": "code",
   "execution_count": 20,
   "metadata": {},
   "outputs": [
    {
     "name": "stdout",
     "output_type": "stream",
     "text": [
      "Hola mundo\n",
      "<class 'str'>\n"
     ]
    }
   ],
   "source": [
    "# Ejemplo\n",
    "# Crear una variable de tipo string\n",
    "x = 'Hola mundo'\n",
    "\n",
    "# Imprimir el valor de la variable\n",
    "print(x)\n",
    "\n",
    "# Imprimir el tipo de la variable\n",
    "print(type(x))"
   ]
  },
  {
   "cell_type": "code",
   "execution_count": 21,
   "metadata": {},
   "outputs": [
    {
     "name": "stdout",
     "output_type": "stream",
     "text": [
      "El valor de la variable `x` es: Hola mundo y su tipo es: <class 'str'>\n"
     ]
    }
   ],
   "source": [
    "# Resumiendolo en un print\n",
    "print('El valor de la variable `x` es:', x, 'y su tipo es:', type(x))"
   ]
  },
  {
   "cell_type": "code",
   "execution_count": 22,
   "metadata": {},
   "outputs": [
    {
     "name": "stdout",
     "output_type": "stream",
     "text": [
      "Los strings son: `Hola` y `mundo`\n",
      "Concatenación: `Hola` + `mundo` = `Holamundo`\n",
      "Repetición: `Hola` * 3 = `HolaHolaHola`\n"
     ]
    }
   ],
   "source": [
    "# Operaciones en los strings\n",
    "x = 'Hola'\n",
    "y = 'mundo'\n",
    "\n",
    "print(f'Los strings son: `{x}` y `{y}`')\n",
    "print(f'Concatenación: `{x}` + `{y}` = `{x + y}`')\n",
    "print(f'Repetición: `{x}` * 3 = `{x * 3}`')\n"
   ]
  },
  {
   "cell_type": "markdown",
   "metadata": {},
   "source": [
    "### Caracteres (char)\n",
    "\n",
    "Los caracteres son aquellas que contienen una sola letra. Por ejemplo, \"a\", \"b\", \"c\", \"d\", \"e\", etc. En Python, los caracteres se definen entre comillas dobles o simples.\n",
    "\n",
    "En python no existe el tipo de dato caracter, por lo que se debe usar el tipo de dato cadena (str) para almacenar un caracter, pero se puede transformar un número a caracter usando la función chr() y viceversa usando la función ord(). Por ejemplo, chr(97) devuelve \"a\" y ord(\"a\") devuelve 97."
   ]
  },
  {
   "cell_type": "code",
   "execution_count": 27,
   "metadata": {},
   "outputs": [
    {
     "name": "stdout",
     "output_type": "stream",
     "text": [
      "A\n",
      "<class 'str'>\n"
     ]
    }
   ],
   "source": [
    "# Ejemplo\n",
    "# Crear una variable de tipo str a partir de un numero en unicode\n",
    "x = chr(65)\n",
    "\n",
    "# Imprimir el valor de la variable\n",
    "print(x)\n",
    "\n",
    "# Imprimir el tipo de la variable\n",
    "print(type(x))"
   ]
  },
  {
   "cell_type": "code",
   "execution_count": 28,
   "metadata": {},
   "outputs": [
    {
     "name": "stdout",
     "output_type": "stream",
     "text": [
      "El valor de la variable `x` es: A y su tipo es: <class 'str'>\n"
     ]
    }
   ],
   "source": [
    "# Resumiendolo en un print\n",
    "print('El valor de la variable `x` es:', x, 'y su tipo es:', type(x))"
   ]
  },
  {
   "cell_type": "code",
   "execution_count": 29,
   "metadata": {},
   "outputs": [
    {
     "name": "stdout",
     "output_type": "stream",
     "text": [
      "65\n",
      "<class 'int'>\n"
     ]
    }
   ],
   "source": [
    "# Ejemplo\n",
    "# Crear una variable de tipo int a partir de un char\n",
    "x = ord('A')\n",
    "\n",
    "# Imprimir el valor de la variable\n",
    "print(x)\n",
    "\n",
    "# Imprimir el tipo de la variable\n",
    "print(type(x))"
   ]
  },
  {
   "cell_type": "code",
   "execution_count": 30,
   "metadata": {},
   "outputs": [
    {
     "name": "stdout",
     "output_type": "stream",
     "text": [
      "El valor de la variable `x` es: 65 y su tipo es: <class 'int'>\n"
     ]
    }
   ],
   "source": [
    "# Resumiendolo en un print\n",
    "print('El valor de la variable `x` es:', x, 'y su tipo es:', type(x))"
   ]
  },
  {
   "cell_type": "markdown",
   "metadata": {},
   "source": [
    "## Variables Booleanas\n",
    "\n",
    "Las variables booleanas son aquellas que contienen valores de verdadero (True) o falso (False). En Python, las variables booleanas se definen sin comillas."
   ]
  },
  {
   "cell_type": "code",
   "execution_count": 31,
   "metadata": {},
   "outputs": [
    {
     "name": "stdout",
     "output_type": "stream",
     "text": [
      "True\n",
      "<class 'bool'>\n"
     ]
    }
   ],
   "source": [
    "# Ejemplo\n",
    "# Crear una variable de tipo boolean\n",
    "x = True\n",
    "\n",
    "# Imprimir el valor de la variable\n",
    "print(x)\n",
    "\n",
    "# Imprimir el tipo de la variable\n",
    "print(type(x))"
   ]
  },
  {
   "cell_type": "code",
   "execution_count": 32,
   "metadata": {},
   "outputs": [
    {
     "name": "stdout",
     "output_type": "stream",
     "text": [
      "El valor de la variable `x` es: True y su tipo es: <class 'bool'>\n"
     ]
    }
   ],
   "source": [
    "# Resumiendolo en un print\n",
    "print('El valor de la variable `x` es:', x, 'y su tipo es:', type(x))"
   ]
  },
  {
   "cell_type": "markdown",
   "metadata": {},
   "source": [
    "## Operadores Lógicos\n",
    "\n",
    "Los operadores lógicos son aquellos que permiten realizar operaciones lógicas entre dos valores booleanos, enteros, de cadena, etc. Estos operadores son: and, or, not, ==, !=, <, >, <=, >=, in, not in, is, is not."
   ]
  },
  {
   "cell_type": "markdown",
   "metadata": {},
   "source": [
    "### Operaciones entre Booleanos\n",
    "\n",
    "El operador **and** devuelve ***True*** si ambos valores son ***True***, de lo contrario devuelve ***False***. El operador ***or*** devuelve ***True*** si al menos uno de los valores es ***True***, de lo contrario devuelve ***False***. El operador ***not*** devuelve ***True*** si el valor es ***False***, de lo contrario devuelve ***False***."
   ]
  },
  {
   "cell_type": "code",
   "execution_count": 34,
   "metadata": {},
   "outputs": [
    {
     "name": "stdout",
     "output_type": "stream",
     "text": [
      "Los booleanos son: `False` y `True`\n",
      "Negación: not `False` = `True`\n",
      "Conjunción: `False` and `True` = `False`\n",
      "Disjunción: `False` or `True` = `True`\n"
     ]
    }
   ],
   "source": [
    "# Ejemplo\n",
    "# Crear dos variables de tipo boolean\n",
    "x = False\n",
    "y = True\n",
    "\n",
    "print(f'Los booleanos son: `{x}` y `{y}`')\n",
    "print(f'Negación: not `{x}` = `{not x}`')\n",
    "print(f'Conjunción: `{x}` and `{y}` = `{x and y}`')\n",
    "print(f'Disjunción: `{x}` or `{y}` = `{x or y}`')"
   ]
  },
  {
   "cell_type": "markdown",
   "metadata": {},
   "source": [
    "### Operaciones entre Enteros\n",
    "\n",
    "El operador ***==*** devuelve ***True*** si ambos valores son iguales, de lo contrario devuelve ***False***. El operador ***!=*** devuelve ***True*** si ambos valores son diferentes, de lo contrario devuelve ***False***. El operador ***<*** devuelve ***True*** si el primer valor es menor que el segundo, de lo contrario devuelve ***False***. El operador ***>*** devuelve ***True*** si el primer valor es mayor que el segundo, de lo contrario devuelve ***False***. El operador ***<=*** devuelve ***True*** si el primer valor es menor o igual que el segundo, de lo contrario devuelve ***False***. El operador ***>=*** devuelve ***True*** si el primer valor es mayor o igual que el segundo, de lo contrario devuelve ***False***."
   ]
  },
  {
   "cell_type": "code",
   "execution_count": 35,
   "metadata": {},
   "outputs": [
    {
     "name": "stdout",
     "output_type": "stream",
     "text": [
      "Los numeros son: 5 y 3.5\n",
      "Comparación: `5` > `3.5` = `True`\n",
      "Comparación: `5` < `3.5` = `False`\n",
      "Comparación: `5` >= `3.5` = `True`\n",
      "Comparación: `5` <= `3.5` = `False`\n",
      "Comparación: `5` == `3.5` = `False`\n",
      "Comparación: `5` != `3.5` = `True`\n"
     ]
    }
   ],
   "source": [
    "# Ejemplo\n",
    "# Crear dos variables de tipo numericas, no importa si son enteras o flotantes\n",
    "x = 5\n",
    "y = 3.5\n",
    "\n",
    "print(f'Los numeros son: {x} y {y}')\n",
    "print(f'Comparación: `{x}` > `{y}` = `{x > y}`')\n",
    "print(f'Comparación: `{x}` < `{y}` = `{x < y}`')\n",
    "print(f'Comparación: `{x}` >= `{y}` = `{x >= y}`')\n",
    "print(f'Comparación: `{x}` <= `{y}` = `{x <= y}`')\n",
    "print(f'Comparación: `{x}` == `{y}` = `{x == y}`')\n",
    "print(f'Comparación: `{x}` != `{y}` = `{x != y}`')"
   ]
  },
  {
   "cell_type": "markdown",
   "metadata": {},
   "source": [
    "### Operaciones entre Cadenas\n",
    "\n",
    "El operador ***==*** devuelve ***True*** si ambas cadenas son iguales, de lo contrario devuelve ***False***. El operador ***!=*** devuelve ***True*** si ambas cadenas son diferentes, de lo contrario devuelve ***False***. El operador ***<*** devuelve ***True*** si la primera cadena es menor que la segunda, de lo contrario devuelve ***False***. El operador ***>*** devuelve ***True*** si la primera cadena es mayor que la segunda, de lo contrario devuelve ***False***. El operador ***<=*** devuelve ***True*** si la primera cadena es menor o igual que la segunda, de lo contrario devuelve ***False***. El operador ***>=*** devuelve ***True*** si la primera cadena es mayor o igual que la segunda, de lo contrario devuelve ***False***. El operador ***in*** devuelve ***True*** si la primera cadena está contenida en la segunda, de lo contrario devuelve ***False***. El operador ***not in*** devuelve ***True*** si la primera cadena no está contenida en la segunda, de lo contrario devuelve ***False***."
   ]
  },
  {
   "cell_type": "code",
   "execution_count": 36,
   "metadata": {},
   "outputs": [
    {
     "name": "stdout",
     "output_type": "stream",
     "text": [
      "Los strings son: `Hola` y `mundo`\n",
      "Comparación: `Hola` > `mundo` = `False`\n",
      "Comparación: `Hola` < `mundo` = `True`\n",
      "Comparación: `Hola` >= `mundo` = `False`\n",
      "Comparación: `Hola` <= `mundo` = `True`\n",
      "Comparación: `Hola` == `mundo` = `False`\n",
      "Comparación: `Hola` != `mundo` = `True`\n",
      "Comparación: `Hola` is `mundo` = `False`\n",
      "Comparación: `Hola` is not `mundo` = `True`\n",
      "Comparación: `Hola` in `mundo` = `False`\n",
      "Comparación: `Hola` not in `mundo` = `True`\n"
     ]
    }
   ],
   "source": [
    "# Ejemplo\n",
    "# Crear dos variables de tipo string\n",
    "x = 'Hola'\n",
    "y = 'mundo'\n",
    "\n",
    "print(f'Los strings son: `{x}` y `{y}`')\n",
    "print(f'Comparación: `{x}` > `{y}` = `{x > y}`')\n",
    "print(f'Comparación: `{x}` < `{y}` = `{x < y}`')\n",
    "print(f'Comparación: `{x}` >= `{y}` = `{x >= y}`')\n",
    "print(f'Comparación: `{x}` <= `{y}` = `{x <= y}`')\n",
    "print(f'Comparación: `{x}` == `{y}` = `{x == y}`')\n",
    "print(f'Comparación: `{x}` != `{y}` = `{x != y}`')\n",
    "print(f'Comparación: `{x}` is `{y}` = `{x is y}`')\n",
    "print(f'Comparación: `{x}` is not `{y}` = `{x is not y}`')\n",
    "print(f'Comparación: `{x}` in `{y}` = `{x in y}`')\n",
    "print(f'Comparación: `{x}` not in `{y}` = `{x not in y}`')"
   ]
  }
 ],
 "metadata": {
  "kernelspec": {
   "display_name": "Python 3",
   "language": "python",
   "name": "python3"
  },
  "language_info": {
   "codemirror_mode": {
    "name": "ipython",
    "version": 3
   },
   "file_extension": ".py",
   "mimetype": "text/x-python",
   "name": "python",
   "nbconvert_exporter": "python",
   "pygments_lexer": "ipython3",
   "version": "3.11.5"
  },
  "orig_nbformat": 4
 },
 "nbformat": 4,
 "nbformat_minor": 2
}
