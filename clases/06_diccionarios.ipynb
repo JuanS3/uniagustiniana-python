{
 "cells": [
  {
   "cell_type": "markdown",
   "metadata": {},
   "source": [
    "# Diccionarios en Python (JSON)\n",
    "\n",
    "Los diccionarios en Python son estructuras de datos extremadamente versátiles y ampliamente utilizadas. Un diccionario es una colección no ordenada de pares clave-valor. Cada elemento se almacena como un par de valores, donde una clave única se asigna a un valor.\n",
    "\n",
    "Los diccionarios se definen con llaves `{}` y los elementos se separan con comas `,`. Cada elemento es un par `clave:valor` donde la clave es un objeto inmutable (cadena, número, tupla) y el valor puede ser cualquier objeto de Python."
   ]
  },
  {
   "cell_type": "code",
   "execution_count": 21,
   "metadata": {},
   "outputs": [
    {
     "data": {
      "text/plain": [
       "{'nombre': 'Carlos', 'edad': 22, 'cursos': ['Python', 'Django', 'JavaScript']}"
      ]
     },
     "execution_count": 21,
     "metadata": {},
     "output_type": "execute_result"
    }
   ],
   "source": [
    "# Ejemplo de diccionario\n",
    "mi_diccionario = {\n",
    "    'nombre': 'Carlos',\n",
    "    'edad': 22,\n",
    "    'cursos':[\n",
    "        'Python',\n",
    "        'Django',\n",
    "        'JavaScript'\n",
    "    ]\n",
    "}\n",
    "\n",
    "mi_diccionario"
   ]
  },
  {
   "cell_type": "markdown",
   "metadata": {},
   "source": [
    "Este tipo de estructura de datos es muy útil para almacenar información que se puede recuperar por su clave, como por ejemplo, un diccionario de sinónimos:\n",
    "\n",
    "```python\n",
    "sinonimos = {\n",
    "    'bueno': 'excelente',\n",
    "    'malo': 'pésimo',\n",
    "    'grande': 'enorme'\n",
    "}\n",
    "```"
   ]
  },
  {
   "cell_type": "markdown",
   "metadata": {},
   "source": [
    "# Acceso a los elementos de un diccionario\n",
    "\n",
    "Para acceder a los elementos de un diccionario se utiliza la clave entre corchetes `[]`:\n",
    "\n",
    "```python\n",
    "sinonimos['bueno']\n",
    "```\n",
    "\n",
    "Otra forma de acceder a los elementos de un diccionario es utilizando el método `get()`:\n",
    "\n",
    "```python\n",
    "sinonimos.get('bueno')\n",
    "```\n",
    "\n",
    "La diferencia entre ambas formas es que si la clave no existe, la primera forma devuelve un error y la segunda devuelve `None`"
   ]
  },
  {
   "cell_type": "markdown",
   "metadata": {},
   "source": [
    "# Modificación de los elementos de un diccionario\n",
    "\n",
    "Para modificar los elementos de un diccionario se utiliza la clave entre corchetes `[]`:\n",
    "\n",
    "```python\n",
    "sinonimos['bueno'] = 'genial'\n",
    "```\n",
    "\n",
    "El método `update()` permite modificar varios elementos a la vez:\n",
    "\n",
    "```python\n",
    "sinonimos.update({'bueno': 'genial', 'malo': 'horrible'})\n",
    "```\n"
   ]
  },
  {
   "cell_type": "code",
   "execution_count": 22,
   "metadata": {},
   "outputs": [
    {
     "name": "stdout",
     "output_type": "stream",
     "text": [
      "{'bueno': 'excelente', 'malo': 'pésimo', 'grande': 'enorme', 'pequeño': 'diminuto'}\n"
     ]
    }
   ],
   "source": [
    "sinonimos = {\n",
    "    'bueno': 'excelente',\n",
    "    'malo': 'pésimo',\n",
    "    'grande': 'enorme'\n",
    "}\n",
    "\n",
    "sinonimos['pequeño'] = 'diminuto'\n",
    "\n",
    "print(sinonimos)"
   ]
  },
  {
   "cell_type": "code",
   "execution_count": 23,
   "metadata": {},
   "outputs": [
    {
     "name": "stdout",
     "output_type": "stream",
     "text": [
      "{'bueno': 'bien', 'malo': 'pésimo', 'grande': 'enorme', 'pequeño': 'minúsculo'}\n"
     ]
    }
   ],
   "source": [
    "sinonimos.update({'pequeño': 'minúsculo', 'bueno': 'bien'})\n",
    "print(sinonimos)"
   ]
  },
  {
   "cell_type": "markdown",
   "metadata": {},
   "source": [
    "## Recorrido de un diccionario\n",
    "\n",
    "Para recorrer un diccionario se utiliza el método `items()`, este método devuelve una lista de tuplas, donde cada tupla es un par `clave:valor`:\n",
    "\n",
    "```python\n",
    "for clave, valor in sinonimos.items():\n",
    "    print(clave, valor)\n",
    "```\n",
    "\n",
    "Otra forma de recorrer un diccionario es utilizando el método `keys()`, este método devuelve una lista con las claves del diccionario:\n",
    "\n",
    "```python\n",
    "for clave in sinonimos.keys():\n",
    "    print(clave, sinonimos[clave])\n",
    "```\n",
    "\n",
    "Otra forma de recorrer un diccionario es sin utilizar ningún método, en este caso se recorren las claves del diccionario, similar al método `keys()`:\n",
    "\n",
    "```python\n",
    "for clave in sinonimos:\n",
    "    print(clave, sinonimos[clave])\n",
    "```"
   ]
  },
  {
   "cell_type": "code",
   "execution_count": 24,
   "metadata": {},
   "outputs": [
    {
     "name": "stdout",
     "output_type": "stream",
     "text": [
      "bueno -> bien\n",
      "malo -> pésimo\n",
      "grande -> enorme\n",
      "pequeño -> minúsculo\n"
     ]
    }
   ],
   "source": [
    "for llave, valor in sinonimos.items():\n",
    "    print(f'{llave} -> {valor}')"
   ]
  },
  {
   "cell_type": "code",
   "execution_count": 25,
   "metadata": {},
   "outputs": [
    {
     "name": "stdout",
     "output_type": "stream",
     "text": [
      "bueno -> bien\n",
      "malo -> pésimo\n",
      "grande -> enorme\n",
      "pequeño -> minúsculo\n"
     ]
    }
   ],
   "source": [
    "for llave in sinonimos.keys():\n",
    "    valor = sinonimos[llave]\n",
    "    print(f'{llave} -> {valor}')"
   ]
  },
  {
   "cell_type": "code",
   "execution_count": 26,
   "metadata": {},
   "outputs": [
    {
     "name": "stdout",
     "output_type": "stream",
     "text": [
      "bueno -> bien\n",
      "malo -> pésimo\n",
      "grande -> enorme\n",
      "pequeño -> minúsculo\n"
     ]
    }
   ],
   "source": [
    "for llave in sinonimos:\n",
    "    valor = sinonimos[llave]\n",
    "    print(f'{llave} -> {valor}')"
   ]
  },
  {
   "cell_type": "code",
   "execution_count": 27,
   "metadata": {},
   "outputs": [
    {
     "name": "stdout",
     "output_type": "stream",
     "text": [
      "bien\n",
      "pésimo\n",
      "enorme\n",
      "minúsculo\n"
     ]
    }
   ],
   "source": [
    "for valor in sinonimos.values():\n",
    "    print(valor)"
   ]
  },
  {
   "cell_type": "markdown",
   "metadata": {},
   "source": [
    "## Eliminación de elementos de un diccionario\n",
    "\n",
    "Para eliminar un elemento de un diccionario se utiliza la palabra reservada `del`:\n",
    "\n",
    "```python\n",
    "del sinonimos['bueno']\n",
    "```"
   ]
  },
  {
   "cell_type": "code",
   "execution_count": 28,
   "metadata": {},
   "outputs": [
    {
     "name": "stdout",
     "output_type": "stream",
     "text": [
      "{'bueno': 'excelente', 'malo': 'pésimo', 'grande': 'enorme'}\n"
     ]
    }
   ],
   "source": [
    "sinonimos = {\n",
    "    'bueno': 'excelente',\n",
    "    'malo': 'pésimo',\n",
    "    'grande': 'enorme'\n",
    "}\n",
    "\n",
    "print(sinonimos)"
   ]
  },
  {
   "cell_type": "code",
   "execution_count": 29,
   "metadata": {},
   "outputs": [
    {
     "name": "stdout",
     "output_type": "stream",
     "text": [
      "{'malo': 'pésimo', 'grande': 'enorme'}\n"
     ]
    }
   ],
   "source": [
    "del sinonimos['bueno']\n",
    "print(sinonimos)"
   ]
  },
  {
   "cell_type": "markdown",
   "metadata": {},
   "source": [
    "## Comprobación de la existencia de una clave\n",
    "\n",
    "Para comprobar si una clave existe en un diccionario se utiliza la palabra reservada `in`:\n",
    "\n",
    "```python\n",
    "if 'bueno' in sinonimos:\n",
    "    print('La clave \"bueno\" existe en el diccionario')\n",
    "else:\n",
    "    print('La clave \"bueno\" no existe en el diccionario')\n",
    "```\n",
    "\n",
    "Esto es especialmente útil para evitar errores al acceder a un elemento de un diccionario que no existe:\n",
    "\n",
    "```python\n",
    "if 'bueno' in sinonimos:\n",
    "    print(sinonimos['bueno'])\n",
    "else:\n",
    "    print('La clave \"bueno\" no existe en el diccionario')\n",
    "```"
   ]
  },
  {
   "cell_type": "code",
   "execution_count": 30,
   "metadata": {},
   "outputs": [
    {
     "name": "stdout",
     "output_type": "stream",
     "text": [
      "{'nombre': 'Carlos', 'edad': 22, 'cursos': ['Python', 'Django', 'JavaScript', 'Angular']}\n"
     ]
    }
   ],
   "source": [
    "# agregar un elemento a los cursos\n",
    "mi_diccionario = {\n",
    "    'nombre': 'Carlos',\n",
    "    'edad': 22,\n",
    "    'cursos':[\n",
    "        'Python',\n",
    "        'Django',\n",
    "        'JavaScript'\n",
    "    ]\n",
    "}\n",
    "\n",
    "if 'cursos' in mi_diccionario:\n",
    "    mi_diccionario['cursos'].append('Angular')\n",
    "else:\n",
    "    mi_diccionario['cursos'] = ['Angular']\n",
    "\n",
    "print(mi_diccionario)"
   ]
  },
  {
   "cell_type": "markdown",
   "metadata": {},
   "source": [
    "# Ejercicios"
   ]
  },
  {
   "cell_type": "markdown",
   "metadata": {},
   "source": [
    "## Ejercicio 1\n",
    "\n",
    "Escribir un programa que guarde en un diccionario los precios de las frutas de la tabla, pregunte al usuario por una fruta, un número de kilos y muestre por pantalla el precio de ese número de kilos de fruta. Si la fruta no está en el diccionario debe mostrar un mensaje informando de ello."
   ]
  },
  {
   "cell_type": "code",
   "execution_count": null,
   "metadata": {},
   "outputs": [],
   "source": [
    "# Codigo aqui"
   ]
  },
  {
   "cell_type": "markdown",
   "metadata": {},
   "source": [
    "## Ejercicio 2\n",
    "\n",
    "Escribir un programa que almacene el diccionario con los créditos de las asignaturas de un curso y después muestre por pantalla los créditos de cada asignatura en el formato `<asignatura> tiene <créditos> créditos`, donde `<asignatura>` es cada una de las asignaturas del curso, y `<créditos>` son sus créditos. Al final debe mostrar también el número total de créditos del curso."
   ]
  },
  {
   "cell_type": "code",
   "execution_count": null,
   "metadata": {},
   "outputs": [],
   "source": [
    "# Codigo aqui"
   ]
  },
  {
   "cell_type": "markdown",
   "metadata": {},
   "source": [
    "## Ejercicio 3\n",
    "\n",
    "Escribir un programa que cree un diccionario de traducción español-inglés. El usuario introducirá las palabras en español e inglés separadas por dos puntos, y cada par `clave:valor` separados por comas. El programa debe crear un diccionario con las palabras y sus traducciones. Después pedirá una frase en español y utilizará el diccionario para traducirla palabra a palabra. Si una palabra no está en el diccionario debe dejarla sin traducir."
   ]
  },
  {
   "cell_type": "code",
   "execution_count": null,
   "metadata": {},
   "outputs": [],
   "source": [
    "# Codigo aqui"
   ]
  },
  {
   "cell_type": "markdown",
   "metadata": {},
   "source": [
    "## Ejercicio 4\n",
    "\n",
    "Escribir un programa que almacene en un diccionario todos los cursos que ha realizado un usuario y la nota que ha sacado en cada uno, y después muestre por pantalla los cursos aprobados (aquellos con una nota mayor o igual que 5)."
   ]
  },
  {
   "cell_type": "code",
   "execution_count": null,
   "metadata": {},
   "outputs": [],
   "source": [
    "# Codigo aqui"
   ]
  }
 ],
 "metadata": {
  "kernelspec": {
   "display_name": "Python 3",
   "language": "python",
   "name": "python3"
  },
  "language_info": {
   "codemirror_mode": {
    "name": "ipython",
    "version": 3
   },
   "file_extension": ".py",
   "mimetype": "text/x-python",
   "name": "python",
   "nbconvert_exporter": "python",
   "pygments_lexer": "ipython3",
   "version": "3.11.5"
  }
 },
 "nbformat": 4,
 "nbformat_minor": 2
}
